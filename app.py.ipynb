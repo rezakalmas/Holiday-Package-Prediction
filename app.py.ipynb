{
 "cells": [
  {
   "cell_type": "code",
   "execution_count": 2,
   "id": "69695fcc",
   "metadata": {
    "ExecuteTime": {
     "end_time": "2022-04-13T08:50:05.898573Z",
     "start_time": "2022-04-13T08:50:04.782507Z"
    }
   },
   "outputs": [],
   "source": [
    "import joblib\n",
    "from flask import Flask,render_template,request\n",
    "import pandas as pd"
   ]
  },
  {
   "cell_type": "code",
   "execution_count": 4,
   "id": "adac8b8f",
   "metadata": {
    "ExecuteTime": {
     "end_time": "2022-04-13T08:54:09.277245Z",
     "start_time": "2022-04-13T08:53:13.627415Z"
    }
   },
   "outputs": [
    {
     "name": "stdout",
     "output_type": "stream",
     "text": [
      " * Serving Flask app '__main__' (lazy loading)\n",
      " * Environment: production\n",
      "\u001b[31m   WARNING: This is a development server. Do not use it in a production deployment.\u001b[0m\n",
      "\u001b[2m   Use a production WSGI server instead.\u001b[0m\n",
      " * Debug mode: off\n"
     ]
    },
    {
     "name": "stderr",
     "output_type": "stream",
     "text": [
      " * Running on http://127.0.0.7:5000 (Press CTRL+C to quit)\n",
      "127.0.0.1 - - [13/Apr/2022 15:53:15] \"GET / HTTP/1.1\" 200 -\n",
      "C:\\Users\\ASUS\\AppData\\Local\\Programs\\Python\\Python310\\lib\\site-packages\\xgboost\\data.py:262: FutureWarning: pandas.Int64Index is deprecated and will be removed from pandas in a future version. Use pandas.Index with the appropriate dtype instead.\n",
      "  elif isinstance(data.columns, (pd.Int64Index, pd.RangeIndex)):\n",
      "127.0.0.1 - - [13/Apr/2022 15:53:49] \"POST / HTTP/1.1\" 200 -\n"
     ]
    }
   ],
   "source": [
    "app = Flask(__name__)\n",
    "model = joblib.load('model')\n",
    "\n",
    "@app.route('/',methods=['GET'])\n",
    "def index ():\n",
    "    return render_template('inputform.html')\n",
    "\n",
    "@app.route('/',methods=['POST'])\n",
    "def input ():\n",
    "    csv_file = request.files.get('myfile')\n",
    "    file = pd.read_csv(csv_file,sep= ',',index_col=0,encoding='utf-8')\n",
    "    file['prediction'] = model.predict(file)\n",
    "    return file.iloc[:,[0,-1]].to_html()\n",
    "\n",
    "if __name__ == '__main__':\n",
    "    app.run(host='127.0.0.7',port='5000')"
   ]
  },
  {
   "cell_type": "code",
   "execution_count": null,
   "id": "51d52841",
   "metadata": {},
   "outputs": [],
   "source": []
  }
 ],
 "metadata": {
  "kernelspec": {
   "display_name": "Python 3 (ipykernel)",
   "language": "python",
   "name": "python3"
  },
  "language_info": {
   "codemirror_mode": {
    "name": "ipython",
    "version": 3
   },
   "file_extension": ".py",
   "mimetype": "text/x-python",
   "name": "python",
   "nbconvert_exporter": "python",
   "pygments_lexer": "ipython3",
   "version": "3.10.2"
  }
 },
 "nbformat": 4,
 "nbformat_minor": 5
}
